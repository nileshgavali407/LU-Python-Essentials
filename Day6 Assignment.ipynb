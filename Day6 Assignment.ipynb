{
 "cells": [
  {
   "cell_type": "code",
   "execution_count": null,
   "metadata": {},
   "outputs": [],
   "source": [
    "import smtplib\n",
    "import base64\n",
    "import csv\n",
    "\n",
    "filename = \"\\Users\\1234\"\n",
    "\n",
    "# Read a file and encode it into base64 format\n",
    "fo = open(filename, \"Python1\")\n",
    "filecontent = fo.read()\n",
    "encodedcontent = base64.b64encode(filecontent)  # base64\n",
    "\n",
    "sender = 'nileshgavali407@gmail.com'\n",
    "reciever = 'chaitalijadhav2000@gmail.com'\n",
    "\n",
    "marker = \"AUNIQUEMARKER\"\n",
    "\n",
    "body =\"\"\"\n",
    "Hii Chaitali!!.\n",
    "\"\"\"\n",
    "# Define the main headers.\n",
    "part1 = \"\"\"From: From Person <nileshgavali407@gmail.com>\n",
    "To: To Person <chaitalijadhav2000@gmail.com>\n",
    "Subject: Sending Attachement\n",
    "MIME-Version: 1.0\n",
    "Content-Type: multipart/mixed; boundary=%s\n",
    "--%s\n",
    "\"\"\" % (marker, marker)\n",
    "\n",
    "# Define the message action\n",
    "part2 = \"\"\"Content-Type: text/plain\n",
    "Content-Transfer-Encoding:8bit\n",
    "\n",
    "%s\n",
    "--%s\n",
    "\"\"\" % (body,marker)\n",
    "\n",
    "# Define the attachment section\n",
    "part3 = \"\"\"Content-Type: multipart/mixed; name=\\\"%s\\\"\n",
    "Content-Transfer-Encoding:base64\n",
    "Content-Disposition: attachment; filename=%s\n",
    "\n",
    "%s\n",
    "--%s--\n",
    "\"\"\" %(filename, filename, encodedcontent, marker)\n",
    "message = part1 + part2 + part3\n",
    "\n",
    "try:\n",
    "   smtpObj = smtplib.SMTP('localhost')\n",
    "   smtpObj.sendmail(sender, reciever, message)\n",
    "   print (\"Successfully sent email\")\n",
    "except Exception:\n",
    "   print (\"Error: unable to send email\")"
   ]
  }
 ],
 "metadata": {
  "kernelspec": {
   "display_name": "Python 3",
   "language": "python",
   "name": "python3"
  },
  "language_info": {
   "codemirror_mode": {
    "name": "ipython",
    "version": 3
   },
   "file_extension": ".py",
   "mimetype": "text/x-python",
   "name": "python",
   "nbconvert_exporter": "python",
   "pygments_lexer": "ipython3",
   "version": "3.7.6"
  }
 },
 "nbformat": 4,
 "nbformat_minor": 4
}
