{
 "cells": [
  {
   "cell_type": "markdown",
   "metadata": {},
   "source": [
    "# Develop Cryptography using Python"
   ]
  },
  {
   "cell_type": "code",
   "execution_count": null,
   "metadata": {},
   "outputs": [],
   "source": [
    "import pandas as pd\n",
    "\n",
    "encryptionkey = pd.read_csv(r\"<C:\\Users\\1234\\Downloads\\pykey.csv>\",\n",
    "                            sep=',', names=['Character', 'Byte'], header=None, skiprows=[0])\n",
    "\n",
    "df = pd.DataFrame(data=encryptionkey)\n",
    "\n",
    "df['Character'] = df['Character'].astype(str)\n",
    "df['Byte'] = df['Byte'].astype(str)\n",
    "\n",
    "def split(message):\n",
    "    return [char for char in message]\n",
    "\n",
    "message = 'It is a beautiful day to code something new. In fact, a day like any other,' \\\n",
    "          ' with new projects and ideas. Maybe also new challenges and nerve-rackings bugs. Time will tell.'\n",
    "\n",
    "message_split = split(message)\n",
    "\n",
    "print(message_split)\n",
    "\n",
    "def code_message():\n",
    "    coded_message = \"\"\n",
    "\n",
    "    for i in range(len(message_split)):\n",
    "        j = message_split[i]\n",
    "        try:\n",
    "            coded_char = encryptionkey.loc[encryptionkey['Character'] == j, 'Byte'].iloc[0]\n",
    "            print(type(coded_char))\n",
    "\n",
    "        # To handle if character is not in our decryption list\n",
    "        except:\n",
    "            print('unrecognized character')\n",
    "            coded_char = '@@@'\n",
    "\n",
    "        coded_message = coded_message + coded_char\n",
    "    return coded_message\n",
    "\n",
    "coded_message = code_message()\n",
    "\n",
    "print('Your coded message:', code_message(), '\\n')\n",
    "\n",
    "def decode_message(message):\n",
    "    new_word = ''\n",
    "    decoded_message = []\n",
    "\n",
    "    for i in range(0, len(message), 2):\n",
    "        j = message[i:i + 2]\n",
    "        index_nb = df[df.eq(j).any(1)]\n",
    "\n",
    "        df2 = index_nb['Character'].tolist()\n",
    "\n",
    "        s = [str(x) for x in df2]\n",
    "\n",
    "        decoded_message = decoded_message + s\n",
    "\n",
    "    new_word = ''.join(decoded_message)\n",
    "\n",
    "    return new_word\n",
    "\n",
    "coded_message_str = str(coded_message)\n",
    "print('Your decoded message:', decode_message(coded_message_str))"
   ]
  }
 ],
 "metadata": {
  "kernelspec": {
   "display_name": "Python 3",
   "language": "python",
   "name": "python3"
  },
  "language_info": {
   "codemirror_mode": {
    "name": "ipython",
    "version": 3
   },
   "file_extension": ".py",
   "mimetype": "text/x-python",
   "name": "python",
   "nbconvert_exporter": "python",
   "pygments_lexer": "ipython3",
   "version": "3.7.6"
  }
 },
 "nbformat": 4,
 "nbformat_minor": 4
}
