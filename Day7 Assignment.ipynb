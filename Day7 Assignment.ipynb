{
 "cells": [
  {
   "cell_type": "markdown",
   "metadata": {},
   "source": [
    "# Create a YouTube video downloader."
   ]
  },
  {
   "cell_type": "code",
   "execution_count": 9,
   "metadata": {},
   "outputs": [],
   "source": [
    "from pytube import YouTube\n",
    "\n",
    "from tkinter import *\n",
    "\n",
    "root=Tk()\n",
    "\n",
    "root.geometry(\"300x400\")\n",
    "root.title(\"You tube video download\")\n",
    "\n",
    "def youtube(): \n",
    "    a=var.get(); #https://www.youtube.com/watch?v=uE0R6BjB4mI\n",
    "    ytvideo= YouTube(a).streams.filter(file_extension=\"mp4\").order_by('resolution').desc().first()\n",
    "    ytvideo.download(r\"E:\\JS\")\n",
    "    print(\"Entry box\",a)\n",
    "\n",
    "ll = Label(root,text= \"You tube video link\",fg=\"Red\",font=(\"bold\",20))\n",
    "ll.place(x=50,y=20)\n",
    "\n",
    "var= StringVar()\n",
    "e1= Entry(root,textvariable=var,width=60)\n",
    "e1.place(x=80,y=80)\n",
    "\n",
    "b1= Button(root,text=\"Download\",command=youtube,bg=\"green\",width=20)\n",
    "b1.place(x=80,y=120)"
   ]
  },
  {
   "cell_type": "code",
   "execution_count": null,
   "metadata": {},
   "outputs": [],
   "source": []
  }
 ],
 "metadata": {
  "kernelspec": {
   "display_name": "Python 3",
   "language": "python",
   "name": "python3"
  },
  "language_info": {
   "codemirror_mode": {
    "name": "ipython",
    "version": 3
   },
   "file_extension": ".py",
   "mimetype": "text/x-python",
   "name": "python",
   "nbconvert_exporter": "python",
   "pygments_lexer": "ipython3",
   "version": "3.7.6"
  }
 },
 "nbformat": 4,
 "nbformat_minor": 4
}
